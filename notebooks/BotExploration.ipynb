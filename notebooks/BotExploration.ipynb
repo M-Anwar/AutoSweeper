{
 "cells": [
  {
   "cell_type": "code",
   "execution_count": 1,
   "metadata": {},
   "outputs": [],
   "source": [
    "import numpy as np"
   ]
  },
  {
   "cell_type": "code",
   "execution_count": 43,
   "metadata": {},
   "outputs": [
    {
     "name": "stdout",
     "output_type": "stream",
     "text": [
      "Mines: {(7, 3), (6, 7), (3, 3), (3, 0), (3, 1), (0, 6)}\n",
      "Safe: {(3, 2), (8, 3), (6, 8), (9, 3), (7, 7), (0, 7), (9, 4), (9, 5), (0, 8)}\n",
      "[[-1. -1.  1. -2. -2.  1. -3. -1. -1. -1. -1. -1. -1. -1. -1. -1. -1. -1.]\n",
      " [-1. -1.  1. -2. -2.  1.  1.  1.  1. -1. -1. -1. -1. -1. -1. -1. -1. -1.]\n",
      " [-1. -1.  3.  1.  1. -2. -2. -2.  1. -1. -1. -1. -1. -1. -1. -1. -1. -1.]\n",
      " [-3. -3. -1. -3.  1. -2. -2. -2.  2. -1. -1. -1. -1. -1. -1. -1. -1. -1.]\n",
      " [ 2.  2.  2.  1.  1. -2. -2. -2.  1. -1. -1. -1. -1. -1. -1. -1. -1. -1.]\n",
      " [-2. -2. -2. -2. -2. -2.  1.  1.  2. -1. -1. -1. -1. -1. -1. -1. -1. -1.]\n",
      " [-2. -2.  1.  1.  1. -2.  1. -3. -1. -1. -1. -1. -1. -1. -1. -1. -1. -1.]\n",
      " [-2. -2.  1. -3.  1. -2.  2. -1. -1. -1. -1. -1. -1. -1. -1. -1. -1. -1.]\n",
      " [-2. -2.  1. -1.  1.  1.  2. -1. -1. -1. -1. -1. -1. -1. -1. -1. -1. -1.]\n",
      " [ 1.  2.  2. -1. -1. -1. -1. -1. -1. -1. -1. -1. -1. -1. -1. -1. -1. -1.]\n",
      " [-1. -1. -1. -1. -1. -1. -1. -1. -1. -1. -1. -1. -1. -1. -1. -1. -1. -1.]\n",
      " [-1. -1. -1. -1. -1. -1. -1. -1. -1. -1. -1. -1. -1. -1. -1. -1. -1. -1.]\n",
      " [-1. -1. -1. -1. -1. -1. -1. -1. -1. -1. -1. -1. -1. -1. -1. -1. -1. -1.]\n",
      " [-1. -1. -1. -1. -1. -1. -1. -1. -1. -1. -1. -1. -1. -1. -1. -1. -1. -1.]]\n"
     ]
    }
   ],
   "source": [
    "board = np.load('../sample_board.npy')\n",
    "\n",
    "known_mines = set()\n",
    "known_safe = set()\n",
    "\n",
    "for edges in np.argwhere(board>0):\n",
    "    row,col = edges[0],edges[1]\n",
    "    \n",
    "    total_open = []\n",
    "    for dx in range(-1,2):\n",
    "        for dy in range(-1,2):\n",
    "            drow, dcol = row+dy, col+dx\n",
    "            if drow<0 or drow>board.shape[0] or dcol<0 or dcol>board.shape[1]:\n",
    "                continue\n",
    "            if board[drow,dcol] == -1:\n",
    "                total_open.append((drow,dcol))                  \n",
    "    \n",
    "    if len(total_open) == board[row,col]:        \n",
    "        known_mines.update(total_open[0:int(board[row,col])])\n",
    "\n",
    "for mines in known_mines:\n",
    "    board[mines[0],mines[1]] = -3\n",
    "    \n",
    "for edges in np.argwhere(board>0):\n",
    "    row,col = edges[0],edges[1]\n",
    "    \n",
    "    total_open = []\n",
    "    total_mines = 0\n",
    "    for dx in range(-1,2):\n",
    "        for dy in range(-1,2):\n",
    "            drow, dcol = row+dy, col+dx\n",
    "            if drow<0 or drow>board.shape[0] or dcol<0 or dcol>board.shape[1]:\n",
    "                continue\n",
    "            if board[drow,dcol] == -1:\n",
    "                total_open.append((drow,dcol))\n",
    "            elif board[drow,dcol] == -3:\n",
    "                total_mines +=1                \n",
    "                \n",
    "    if total_mines == board[row,col]:\n",
    "        known_safe.update(total_open)\n",
    "\n",
    "print(\"Mines:\",known_mines)              \n",
    "print(\"Safe:\",known_safe)                \n",
    "print(board)\n",
    "# for edges in np.argwhere(board>0):\n",
    "#     row,col = edges[0],edges[1]\n",
    "    \n",
    "\n",
    "\n",
    "# print(known_mines)"
   ]
  },
  {
   "cell_type": "code",
   "execution_count": null,
   "metadata": {},
   "outputs": [],
   "source": []
  }
 ],
 "metadata": {
  "kernelspec": {
   "display_name": "Python 3",
   "language": "python",
   "name": "python3"
  },
  "language_info": {
   "codemirror_mode": {
    "name": "ipython",
    "version": 3
   },
   "file_extension": ".py",
   "mimetype": "text/x-python",
   "name": "python",
   "nbconvert_exporter": "python",
   "pygments_lexer": "ipython3",
   "version": "3.5.5"
  }
 },
 "nbformat": 4,
 "nbformat_minor": 2
}
